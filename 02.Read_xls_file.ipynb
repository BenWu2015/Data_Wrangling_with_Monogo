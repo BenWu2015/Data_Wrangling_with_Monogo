{
 "cells": [
  {
   "cell_type": "markdown",
   "metadata": {
    "collapsed": true
   },
   "source": []
  },
  {
   "cell_type": "code",
   "execution_count": 2,
   "metadata": {},
   "outputs": [
    {
     "name": "stdout",
     "output_type": "stream",
     "text": [
      "D:\\my files\\My Job Searching\\Online Courses\\Data Wrangling with MongoDB\\01.DataExtractionFundamentals\n"
     ]
    }
   ],
   "source": [
    "import xlrd\n",
    "import os\n",
    "os.chdir('D:\\my files\\My Job Searching\\Online Courses\\Data Wrangling with MongoDB')\n",
    "os.chdir('01.DataExtractionFundamentals')\n",
    "print(os.getcwd())\n",
    "datafile = \"2013_ERCOT_Hourly_Load_Data.xls\""
   ]
  },
  {
   "cell_type": "code",
   "execution_count": 4,
   "metadata": {},
   "outputs": [
    {
     "name": "stdout",
     "output_type": "stream",
     "text": [
      "Number of rows in the sheet:\n7296\nvalue in cell (row 3, col 2)\n1036.088697\nTime in Excel format (row 1, col 0):\n41275.0416667\ndata type of Time in EXCEL\n3\n(2013, 1, 1, 1, 0, 0)\n5391\n18779.02551\n10976.9334607\n"
     ]
    }
   ],
   "source": [
    "workbook = xlrd.open_workbook(datafile)\n",
    "sheet = workbook.sheet_by_index(0)\n",
    "print \"Number of rows in the sheet:\"\n",
    "print(sheet.nrows)\n",
    "print \"value in cell (row 3, col 2)\"\n",
    "print sheet.cell_value(3,2)\n",
    "print \"Time in Excel format (row 1, col 0):\"\n",
    "exceltime = sheet.cell_value(1,0)\n",
    "print exceltime\n",
    "print \"data type of Time in EXCEL\"\n",
    "print sheet.cell_type(1, 0)\n",
    "print xlrd.xldate_as_tuple(exceltime, 0)\n",
    "\n",
    "maxrow = sheet.nrows\n",
    "all_data = sheet.col_values(1, start_rowx=1, end_rowx = maxrow+1)\n",
    "maxval = max(all_data)\n",
    "indx = all_data.index(maxval)\n",
    "print indx\n",
    "print maxval\n",
    "avgval = sum(all_data)/len(all_data)\n",
    "print avgval\n",
    "\n"
   ]
  },
  {
   "cell_type": "code",
   "execution_count": 10,
   "metadata": {},
   "outputs": [],
   "source": [
    "def parse_file(datafile):\n",
    "    workbook = xlrd.open_workbook(datafile)\n",
    "    sheet = workbook.sheet_by_index(0)\n",
    "\n",
    "    ### example on how you can get the data\n",
    "    #sheet_data = [[sheet.cell_value(r, col) for col in range(sheet.ncols)] for r in range(sheet.nrows)]\n",
    "\n",
    "    ### other useful methods:\n",
    "    # print \"\\nROWS, COLUMNS, and CELLS:\"\n",
    "    # print \"Number of rows in the sheet:\", \n",
    "    # print sheet.nrows\n",
    "    # print \"Type of data in cell (row 3, col 2):\", \n",
    "    # print sheet.cell_type(3, 2)\n",
    "    # print \"Value in cell (row 3, col 2):\", \n",
    "    # print sheet.cell_value(3, 2)\n",
    "    # print \"Get a slice of values in column 3, from rows 1-3:\"\n",
    "    # print sheet.col_values(3, start_rowx=1, end_rowx=4)\n",
    "\n",
    "    # print \"\\nDATES:\"\n",
    "    # print \"Type of data in cell (row 1, col 0):\", \n",
    "    # print sheet.cell_type(1, 0)\n",
    "    # exceltime = sheet.cell_value(1, 0)\n",
    "    # print \"Time in Excel format:\",\n",
    "    # print exceltime\n",
    "    # print \"Convert time to a Python datetime tuple, from the Excel float:\",\n",
    "    # print xlrd.xldate_as_tuple(exceltime, 0)\n",
    "    \n",
    "    all_data = sheet.col_values(1, start_rowx=1, end_rowx = None)\n",
    "    maxval = max(all_data)\n",
    "    indx_max = all_data.index(maxval) + 1\n",
    "    maxtime = sheet.cell_value(indx_max, 0)\n",
    "    maxtime = xlrd.xldate_as_tuple(maxtime, 0)\n",
    "    \n",
    "    \n",
    "    \n",
    "    minval = min(all_data)\n",
    "    indx_min = all_data.index(minval) + 1\n",
    "    mintime = sheet.cell_value(indx_min, 0)\n",
    "    mintime = xlrd.xldate_as_tuple(mintime, 0)\n",
    "    \n",
    "    avgval = sum(all_data)/len(all_data)\n",
    "    \n",
    "    \n",
    "    data = {\n",
    "            'maxtime': maxtime,\n",
    "            'maxvalue': maxval,\n",
    "            'mintime': mintime,\n",
    "            'minvalue': minval,\n",
    "            'avgcoast': avgval\n",
    "    }\n",
    "    \n",
    "    import pprint\n",
    "    pprint.pprint(data)\n",
    "    return data\n"
   ]
  },
  {
   "cell_type": "code",
   "execution_count": 11,
   "metadata": {},
   "outputs": [
    {
     "name": "stdout",
     "output_type": "stream",
     "text": [
      "{'avgcoast': 10976.933460679751,\n 'maxtime': (2013, 8, 13, 17, 0, 0),\n 'maxvalue': 18779.025510000003,\n 'mintime': (2013, 2, 3, 4, 0, 0),\n 'minvalue': 6602.113898999982}\n"
     ]
    }
   ],
   "source": [
    "\n",
    "def test():\n",
    "    data = parse_file(datafile)\n",
    "\n",
    "    assert data['maxtime'] == (2013, 8, 13, 17, 0, 0)\n",
    "    assert round(data['maxvalue'], 10) == round(18779.02551, 10)\n",
    "\n",
    "\n",
    "test()\n"
   ]
  },
  {
   "cell_type": "code",
   "execution_count": null,
   "metadata": {},
   "outputs": [],
   "source": []
  }
 ],
 "metadata": {
  "kernelspec": {
   "display_name": "Python 2",
   "language": "python",
   "name": "python2"
  },
  "language_info": {
   "codemirror_mode": {
    "name": "ipython",
    "version": 2
   },
   "file_extension": ".py",
   "mimetype": "text/x-python",
   "name": "python",
   "nbconvert_exporter": "python",
   "pygments_lexer": "ipython2",
   "version": "2.7.6"
  }
 },
 "nbformat": 4,
 "nbformat_minor": 0
}
