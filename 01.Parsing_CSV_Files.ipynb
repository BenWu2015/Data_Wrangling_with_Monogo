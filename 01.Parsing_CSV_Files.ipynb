{
 "cells": [
  {
   "cell_type": "heading",
   "metadata": {
    "collapsed": true
   },
   "level": 1,
   "source": [
    "# Your task is to read the input DATAFILE line by line, and for the first 10 lines (not including the header)\n",
    "# split each line on \",\" and then for each line, create a dictionary\n",
    "# where the key is the header title of the field, and the value is the value of that field in the row.\n",
    "# The function parse_file should return a list of dictionaries,\n",
    "# each data line in the file being a single list entry.\n",
    "# Field names and values should not contain extra whitespace, like spaces or newline characters.\n",
    "# You can use the Python string method strip() to remove the extra whitespace.\n",
    "# You have to parse only the first 10 data lines in this exercise,\n",
    "# so the returned list should have 10 entries!"
   ]
  },
  {
   "cell_type": "code",
   "execution_count": 26,
   "metadata": {},
   "outputs": [
    {
     "name": "stdout",
     "output_type": "stream",
     "text": [
      "D:\\my files\\My Job Searching\\Online Courses\\Data Wrangling with MongoDB\\01.DataExtractionFundamentals\n"
     ]
    }
   ],
   "source": [
    "import os\n",
    "os.chdir('D:\\my files\\My Job Searching\\Online Courses\\Data Wrangling with MongoDB')\n",
    "os.chdir('01.DataExtractionFundamentals')\n",
    "print(os.getcwd())\n",
    "DATADIR = \"\"\n",
    "DATAFILE = \"beatles-diskography.csv\""
   ]
  },
  {
   "cell_type": "code",
   "execution_count": 58,
   "metadata": {},
   "outputs": [
    {
     "name": "stdout",
     "output_type": "stream",
     "text": [
      "['Title', 'Released', 'Label', 'UK Chart Position', 'US Chart Position', 'BPI Certification', 'RIAA Certification\\n']\nPlease Please Me,22 March 1963,Parlophone(UK),1,-,Gold,Platinum\n\n===============with strip()==============\n{'Title': 'Please Please Me', 'UK Chart Position': '1', 'Label': 'Parlophone(UK)', 'Released': '22 March 1963', 'US Chart Position': '-', 'RIAA Certification': 'Platinum', 'BPI Certification': 'Gold'}\n===============without strip()==============\n{'Title': 'Please Please Me', 'RIAA Certification\\n': 'Platinum\\n', 'UK Chart Position': '1', 'Label': 'Parlophone(UK)', 'Released': '22 March 1963', 'US Chart Position': '-', 'BPI Certification': 'Gold'}\n"
     ]
    }
   ],
   "source": [
    "datafile = os.path.join(DATADIR, DATAFILE)\n",
    "with open(datafile,\"r\") as f:\n",
    "    header = f.readline().split(\",\")\n",
    "    print(header)\n",
    "    count = 0\n",
    "    for line in f:\n",
    "        if count == 1:\n",
    "            break\n",
    "        print(line)\n",
    "        fields = line.split(\",\")\n",
    "        print(\"===============with strip()==============\")\n",
    "        entry = {}\n",
    "        for i, field in enumerate(fields):\n",
    "            entry[header[i].strip()] = field.strip()\n",
    "        print(entry)\n",
    "        \n",
    "        print(\"===============without strip()==============\")\n",
    "        entry = {}\n",
    "        for i, field in enumerate(fields):\n",
    "            entry[header[i]] = field\n",
    "        print(entry)\n",
    "        \n",
    "        count += 1"
   ]
  },
  {
   "cell_type": "code",
   "execution_count": null,
   "metadata": {},
   "outputs": [],
   "source": [
    "import csv\n",
    "with open(datafile, 'rb') as sd:\n",
    "    csvdata = []\n",
    "    r = csv.DictReader(sd)\n",
    "    print(r)\n",
    "    for line in r:\n",
    "        csvdata.append(line)\n",
    "    print(csvdata)"
   ]
  },
  {
   "cell_type": "code",
   "execution_count": 55,
   "metadata": {},
   "outputs": [],
   "source": [
    "\n",
    "def parse_file(datafile):\n",
    "    data = []\n",
    "    with open(datafile, \"r\") as f:\n",
    "        header = f.readline().split(\",\")\n",
    "        count = 0\n",
    "        for line in f:\n",
    "            if count == 10:\n",
    "                break\n",
    "            # print line            \n",
    "            fields = line.split(\",\")\n",
    "            entry = {}\n",
    "            for i, field in enumerate(fields):\n",
    "                entry[header[i].strip()] = field.strip()\n",
    "            data.append(entry)\n",
    "            count += 1\n",
    "            \n",
    "    return data\n"
   ]
  },
  {
   "cell_type": "code",
   "execution_count": 57,
   "metadata": {},
   "outputs": [],
   "source": [
    "\n",
    "def test():\n",
    "    # a simple test of your implemetation\n",
    "    datafile = os.path.join(DATADIR, DATAFILE)\n",
    "    d = parse_file(datafile)\n",
    "    firstline = {'Title': 'Please Please Me', 'UK Chart Position': '1', 'Label': 'Parlophone(UK)', 'Released': '22 March 1963', 'US Chart Position': '-', 'RIAA Certification': 'Platinum', 'BPI Certification': 'Gold'}\n",
    "    tenthline = {'Title': '', 'UK Chart Position': '1', 'Label': 'Parlophone(UK)', 'Released': '10 July 1964', 'US Chart Position': '-', 'RIAA Certification': '', 'BPI Certification': 'Gold'}\n",
    "\n",
    "    assert d[0] == firstline\n",
    "    assert d[9] == tenthline\n",
    "\n",
    "    \n",
    "test()\n"
   ]
  },
  {
   "cell_type": "code",
   "execution_count": null,
   "metadata": {},
   "outputs": [],
   "source": []
  }
 ],
 "metadata": {
  "kernelspec": {
   "display_name": "Python 2",
   "language": "python",
   "name": "python2"
  },
  "language_info": {
   "codemirror_mode": {
    "name": "ipython",
    "version": 2
   },
   "file_extension": ".py",
   "mimetype": "text/x-python",
   "name": "python",
   "nbconvert_exporter": "python",
   "pygments_lexer": "ipython2",
   "version": "2.7.6"
  }
 },
 "nbformat": 4,
 "nbformat_minor": 0
}
